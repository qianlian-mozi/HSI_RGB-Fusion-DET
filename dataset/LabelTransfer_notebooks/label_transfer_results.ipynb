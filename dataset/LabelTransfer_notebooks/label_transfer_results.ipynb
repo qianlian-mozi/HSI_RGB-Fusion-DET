{
 "cells": [
  {
   "cell_type": "code",
   "execution_count": 3,
   "metadata": {},
   "outputs": [
    {
     "data": {
      "image/png": "[encoded data removed]",
      "text/plain": [
       "<Figure size 750x500 with 6 Axes>"
      ]
     },
     "metadata": {},
     "output_type": "display_data"
    }
   ],
   "source": [
    "from spectralwaste.dataset import SpectralWasteDataset\n",
    "from spectralwaste import alignment, utils\n",
    "\n",
    "import matplotlib.pyplot as plt\n",
    "from matplotlib.colors import ListedColormap\n",
    "\n",
    "dataset_rgb = SpectralWasteDataset('../data/dataset', '../data/metadata/annotations_rgb_iros2024.json')\n",
    "dataset_hyper = SpectralWasteDataset('../data/dataset', '../data/metadata/annotations_hyper_iros2024.json')\n",
    "\n",
    "transfer_model = alignment.LabelTransferModel(verbose=False)\n",
    "\n",
    "# image_id, rgb_mask_idx, hyper_mask_idx\n",
    "inputs = [\n",
    "    ('20230119_03_100832', 2, 3), # film\n",
    "    ('20230119_03_100835', 4, 4), # video_tape\n",
    "    ('20230117_11_115038', 2, 2) # filamnet\n",
    "]\n",
    "\n",
    "cmap_gt = ListedColormap(['#ffffff00', '#50823b99'])\n",
    "cmap_transfer = ListedColormap(['#ffffff00', '#c5001399'])\n",
    "\n",
    "fig, axs = plt.subplots(2, 3, figsize=(7.5, 5), gridspec_kw={'hspace': 0.05, 'wspace': 0.05})\n",
    "\n",
    "for i, (image_id, rgb_mask_idx, hyper_mask_idx) in enumerate(inputs):\n",
    "    rgb_image = dataset_rgb.get_image(image_id)\n",
    "    hyper_image = dataset_hyper.get_image(image_id)\n",
    "\n",
    "    rgb = hyper_image.read_rgb()\n",
    "    hyper = hyper_image.read_hyper()\n",
    "\n",
    "    rgb_instance = rgb_image.get_instance_labels()\n",
    "    hyper_instance = hyper_image.get_instance_labels()\n",
    "\n",
    "    rgb_align, hyper_align, rgb_instance_align, hyper_instance_align = alignment.multimodal_manual_align(rgb, hyper, rgb_instance, hyper_instance)\n",
    "\n",
    "    hyper_align_color = utils.image_processing.false_color(hyper_align)\n",
    "    transferred_instance = transfer_model.transfer_instance_labels(rgb_align, hyper_align_color, rgb_instance_align)\n",
    "\n",
    "    # Plot manual alignment\n",
    "    axs[0, i].imshow(hyper_instance_align['masks'][hyper_mask_idx], cmap=cmap_gt, interpolation='none')\n",
    "    axs[0, i].imshow(rgb_instance_align['masks'][rgb_mask_idx], cmap=cmap_transfer, interpolation='none')\n",
    "    axs[0, i].set_xticks([])\n",
    "    axs[0, i].set_yticks([])\n",
    "\n",
    "    # Plot label transfer\n",
    "    axs[1, i].imshow(hyper_instance_align['masks'][hyper_mask_idx], cmap=cmap_gt, interpolation='none')\n",
    "    axs[1, i].imshow(transferred_instance['masks'][rgb_mask_idx], cmap=cmap_transfer, interpolation='none')\n",
    "    axs[1, i].set_xticks([])\n",
    "    axs[1, i].set_yticks([])"
   ]
  }
 ],
 "metadata": {
  "kernelspec": {
   "display_name": "env",
   "language": "python",
   "name": "python3"
  },
  "language_info": {
   "codemirror_mode": {
    "name": "ipython",
    "version": 3
   },
   "file_extension": ".py",
   "mimetype": "text/x-python",
   "name": "python",
   "nbconvert_exporter": "python",
   "pygments_lexer": "ipython3",
   "version": "3.10.14"
  }
 },
 "nbformat": 4,
 "nbformat_minor": 2
}
